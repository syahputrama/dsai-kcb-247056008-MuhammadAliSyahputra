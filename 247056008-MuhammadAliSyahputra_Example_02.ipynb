{
 "cells": [
  {
   "cell_type": "markdown",
   "metadata": {},
   "source": [
    "## Tugas Kecerdasan Buatan - Example 02\n",
    "NIM             : 247056008\n",
    "<br>Nama            : Muhammad Ali Syahputra\n",
    "<br>Program Studi   : Data Science dan Artificial Intelligence\n",
    "<br>Mata Kuliah     : Kecerdasan Buatan"
   ]
  },
  {
   "cell_type": "markdown",
   "metadata": {},
   "source": [
    "### Import Library"
   ]
  },
  {
   "cell_type": "code",
   "execution_count": 24,
   "metadata": {},
   "outputs": [],
   "source": [
    "import numpy as np\n",
    "import pandas as pd"
   ]
  },
  {
   "cell_type": "code",
   "execution_count": 25,
   "metadata": {},
   "outputs": [],
   "source": [
    "# === Step 0: Inisialisasi Data Input ===\n",
    "# # Data input (X) dan output target (y)\n",
    "X = np.array([\n",
    "    [1, 0, 0],\n",
    "    [0, 0, 1],\n",
    "    [1, 0, 1],\n",
    "    [1, 1, 1]\n",
    "])\n",
    "y = np.array([0, 0, 0, 1])  # Output target\n",
    "\n",
    "# Inisialisasi bobot awal dan threshold\n",
    "weights = np.array([0.5, 0.5, 0.5])  # Bobot awal (w1, w2, w3)\n",
    "threshold = 0.8  # Threshold\n",
    "learning_rate = 0.1  # Persentase pembaruan bobot (10%)"
   ]
  },
  {
   "cell_type": "code",
   "execution_count": 26,
   "metadata": {},
   "outputs": [],
   "source": [
    "# === Step 1: Hitung Weighted Sum dan Output ===\n",
    "# # Fungsi untuk menghitung weighted sum\n",
    "def weighted_sum(inputs, weights):\n",
    "    return np.dot(inputs, weights)\n",
    "\n",
    "# Fungsi untuk menghasilkan output berdasarkan threshold\n",
    "def predict_output(weighted_sum, threshold):\n",
    "    return 1 if weighted_sum >= threshold else 0\n"
   ]
  },
  {
   "cell_type": "code",
   "execution_count": 27,
   "metadata": {},
   "outputs": [],
   "source": [
    "# === Step 2: Simulasi Proses Perceptron ===\n",
    "# Fungsi untuk memperbarui bobot\n",
    "def update_weights(weights, inputs, y_actual, y_pred, learning_rate):\n",
    "    action = \"None\"\n",
    "    if y_pred < y_actual:  # Tingkatkan bobot jika prediksi lebih kecil dari target\n",
    "        weights += learning_rate * inputs\n",
    "        action = \"Increase\"\n",
    "    elif y_pred > y_actual:  # Kurangi bobot jika prediksi lebih besar dari target\n",
    "        weights -= learning_rate * inputs\n",
    "        action = \"Decrease\"\n",
    "    return weights, action\n"
   ]
  },
  {
   "cell_type": "code",
   "execution_count": 28,
   "metadata": {},
   "outputs": [],
   "source": [
    "# === Step 3: Inisialisasi Data Input ===\n",
    "# Simulasi proses Perceptron\n",
    "def perceptron_simulation(X, y, weights, threshold, learning_rate):\n",
    "    results = []\n",
    "    for i in range(len(X)):\n",
    "        inputs = X[i]\n",
    "        y_actual = y[i]\n",
    "        \n",
    "        # Hitung weighted sum dan output\n",
    "        z = weighted_sum(inputs, weights)\n",
    "        y_pred = predict_output(z, threshold)\n",
    "        \n",
    "        # Perbarui bobot jika diperlukan\n",
    "        weights, action = update_weights(weights, inputs, y_actual, y_pred, learning_rate)\n",
    "        \n",
    "        # Simpan hasil ke tabel\n",
    "        results.append({\n",
    "            \"Inputs\": inputs,\n",
    "            \"Weights\": weights.round(2),\n",
    "            \"Weighted Sum\": round(z, 2),\n",
    "            \"Output Produced\": y_pred,\n",
    "            \"Output Target\": y_actual,\n",
    "            \"Action\": action\n",
    "        })\n",
    "    return results"
   ]
  },
  {
   "cell_type": "code",
   "execution_count": 29,
   "metadata": {},
   "outputs": [
    {
     "name": "stdout",
     "output_type": "stream",
     "text": [
      "      Inputs          Weights  Weighted Sum  Output Produced  Output Target  \\\n",
      "0  [1, 0, 0]  [0.5, 0.5, 0.5]           0.5                0              0   \n",
      "1  [0, 0, 1]  [0.5, 0.5, 0.5]           0.5                0              0   \n",
      "2  [1, 0, 1]  [0.4, 0.5, 0.4]           1.0                1              0   \n",
      "3  [1, 1, 1]  [0.4, 0.5, 0.4]           1.3                1              1   \n",
      "\n",
      "     Action  \n",
      "0      None  \n",
      "1      None  \n",
      "2  Decrease  \n",
      "3      None  \n"
     ]
    }
   ],
   "source": [
    "# === Step 4: Cetak Tabel Hasil ===\n",
    "# Jalankan simulasi\n",
    "simulation_results = perceptron_simulation(X, y, weights, threshold, learning_rate)\n",
    "\n",
    "# Konversi hasil simulasi menjadi DataFrame untuk tampilan tabel\n",
    "df_results = pd.DataFrame(simulation_results)\n",
    "\n",
    "# Tampilkan tabel hasil\n",
    "print(df_results)\n"
   ]
  },
  {
   "cell_type": "code",
   "execution_count": 30,
   "metadata": {},
   "outputs": [
    {
     "name": "stdout",
     "output_type": "stream",
     "text": [
      "      Inputs          Weights  Weighted Sum  Output Produced  Output Target  \\\n",
      "0  [1, 0, 0]  [0.5, 0.5, 0.5]           0.5                0              0   \n",
      "1  [0, 0, 1]  [0.5, 0.5, 0.5]           0.5                0              0   \n",
      "2  [1, 0, 1]  [0.4, 0.5, 0.4]           1.0                1              0   \n",
      "3  [1, 1, 1]  [0.4, 0.5, 0.4]           1.3                1              1   \n",
      "\n",
      "     Action  \n",
      "0      None  \n",
      "1      None  \n",
      "2  Decrease  \n",
      "3      None  \n"
     ]
    }
   ],
   "source": [
    "import numpy as np\n",
    "import pandas as pd\n",
    "\n",
    "# Data input (X) dan output target (y)\n",
    "X = np.array([\n",
    "    [1, 0, 0],\n",
    "    [0, 0, 1],\n",
    "    [1, 0, 1],\n",
    "    [1, 1, 1]\n",
    "])\n",
    "y = np.array([0, 0, 0, 1])  # Output target\n",
    "\n",
    "# Inisialisasi bobot awal dan threshold\n",
    "weights = np.array([0.5, 0.5, 0.5])  # Bobot awal (w1, w2, w3)\n",
    "threshold = 0.8  # Threshold\n",
    "learning_rate = 0.1  # Persentase pembaruan bobot (10%)\n",
    "\n",
    "# Fungsi untuk menghitung weighted sum\n",
    "def weighted_sum(inputs, weights):\n",
    "    return np.dot(inputs, weights)\n",
    "\n",
    "# Fungsi untuk menghasilkan output berdasarkan threshold\n",
    "def predict_output(weighted_sum, threshold):\n",
    "    return 1 if weighted_sum >= threshold else 0\n",
    "\n",
    "# Fungsi untuk memperbarui bobot\n",
    "def update_weights(weights, inputs, y_actual, y_pred, learning_rate):\n",
    "    action = \"None\"\n",
    "    if y_pred < y_actual:  # Tingkatkan bobot jika prediksi lebih kecil dari target\n",
    "        weights += learning_rate * inputs\n",
    "        action = \"Increase\"\n",
    "    elif y_pred > y_actual:  # Kurangi bobot jika prediksi lebih besar dari target\n",
    "        weights -= learning_rate * inputs\n",
    "        action = \"Decrease\"\n",
    "    return weights, action\n",
    "\n",
    "# Simulasi proses Perceptron\n",
    "def perceptron_simulation(X, y, weights, threshold, learning_rate):\n",
    "    results = []\n",
    "    for i in range(len(X)):\n",
    "        inputs = X[i]\n",
    "        y_actual = y[i]\n",
    "        \n",
    "        # Hitung weighted sum dan output\n",
    "        z = weighted_sum(inputs, weights)\n",
    "        y_pred = predict_output(z, threshold)\n",
    "        \n",
    "        # Perbarui bobot jika diperlukan\n",
    "        weights, action = update_weights(weights, inputs, y_actual, y_pred, learning_rate)\n",
    "        \n",
    "        # Simpan hasil ke tabel\n",
    "        results.append({\n",
    "            \"Inputs\": list(inputs),\n",
    "            \"Weights\": list(weights.round(2)),\n",
    "            \"Weighted Sum\": round(z, 2),\n",
    "            \"Output Produced\": y_pred,\n",
    "            \"Output Target\": y_actual,\n",
    "            \"Action\": action\n",
    "        })\n",
    "    return results\n",
    "\n",
    "# Jalankan simulasi\n",
    "simulation_results = perceptron_simulation(X, y, weights, threshold, learning_rate)\n",
    "\n",
    "# Konversi hasil simulasi menjadi DataFrame untuk tampilan tabel\n",
    "df_results = pd.DataFrame(simulation_results)\n",
    "\n",
    "# Tampilkan tabel hasil\n",
    "print(df_results)"
   ]
  },
  {
   "cell_type": "code",
   "execution_count": 31,
   "metadata": {},
   "outputs": [
    {
     "name": "stdout",
     "output_type": "stream",
     "text": [
      "      Inputs          Weights  Weighted Sum  Output Produced  Output Target  \\\n",
      "0  [1, 0, 0]  [0.5, 0.5, 0.5]           0.5                0              0   \n",
      "1  [0, 0, 1]  [0.5, 0.5, 0.5]           0.5                0              0   \n",
      "2  [1, 0, 1]  [0.5, 0.5, 0.5]           1.0                1              0   \n",
      "3  [1, 1, 1]  [0.5, 0.5, 0.5]           1.5                1              1   \n",
      "\n",
      "  Action  \n",
      "0   None  \n",
      "1   None  \n",
      "2   None  \n",
      "3   None  \n"
     ]
    }
   ],
   "source": []
  }
 ],
 "metadata": {
  "kernelspec": {
   "display_name": ".venv",
   "language": "python",
   "name": "python3"
  },
  "language_info": {
   "codemirror_mode": {
    "name": "ipython",
    "version": 3
   },
   "file_extension": ".py",
   "mimetype": "text/x-python",
   "name": "python",
   "nbconvert_exporter": "python",
   "pygments_lexer": "ipython3",
   "version": "3.13.1"
  }
 },
 "nbformat": 4,
 "nbformat_minor": 2
}
